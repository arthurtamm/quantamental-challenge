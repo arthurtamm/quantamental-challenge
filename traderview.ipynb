{
 "cells": [
  {
   "cell_type": "code",
   "execution_count": 1,
   "metadata": {},
   "outputs": [],
   "source": [
    "import numpy as np\n",
    "import pandas as pd\n",
    "import matplotlib.pyplot as plt\n",
    "from datetime import datetime"
   ]
  },
  {
   "cell_type": "code",
   "execution_count": 2,
   "metadata": {},
   "outputs": [
    {
     "data": {
      "text/html": [
       "<div>\n",
       "<style scoped>\n",
       "    .dataframe tbody tr th:only-of-type {\n",
       "        vertical-align: middle;\n",
       "    }\n",
       "\n",
       "    .dataframe tbody tr th {\n",
       "        vertical-align: top;\n",
       "    }\n",
       "\n",
       "    .dataframe thead th {\n",
       "        text-align: right;\n",
       "    }\n",
       "</style>\n",
       "<table border=\"1\" class=\"dataframe\">\n",
       "  <thead>\n",
       "    <tr style=\"text-align: right;\">\n",
       "      <th></th>\n",
       "      <th>time</th>\n",
       "      <th>open</th>\n",
       "      <th>high</th>\n",
       "      <th>low</th>\n",
       "      <th>close</th>\n",
       "      <th>Volume</th>\n",
       "      <th>Volume MA</th>\n",
       "      <th>ParabolicSAR</th>\n",
       "      <th>Conversion Line</th>\n",
       "      <th>Base Line</th>\n",
       "      <th>...</th>\n",
       "      <th>Plot</th>\n",
       "      <th>Histogram</th>\n",
       "      <th>MACD</th>\n",
       "      <th>Signal</th>\n",
       "      <th>%K</th>\n",
       "      <th>%D</th>\n",
       "      <th>MOM</th>\n",
       "      <th>Accumulation/Distribution</th>\n",
       "      <th>ATR</th>\n",
       "      <th>Bollinger Bands Width</th>\n",
       "    </tr>\n",
       "  </thead>\n",
       "  <tbody>\n",
       "    <tr>\n",
       "      <th>0</th>\n",
       "      <td>2011-08-18T00:00:00Z</td>\n",
       "      <td>10.90</td>\n",
       "      <td>10.90</td>\n",
       "      <td>10.90</td>\n",
       "      <td>10.90</td>\n",
       "      <td>0.489908</td>\n",
       "      <td>NaN</td>\n",
       "      <td>NaN</td>\n",
       "      <td>NaN</td>\n",
       "      <td>NaN</td>\n",
       "      <td>...</td>\n",
       "      <td>50</td>\n",
       "      <td>NaN</td>\n",
       "      <td>NaN</td>\n",
       "      <td>NaN</td>\n",
       "      <td>NaN</td>\n",
       "      <td>NaN</td>\n",
       "      <td>NaN</td>\n",
       "      <td>0.000000</td>\n",
       "      <td>NaN</td>\n",
       "      <td>NaN</td>\n",
       "    </tr>\n",
       "    <tr>\n",
       "      <th>1</th>\n",
       "      <td>2011-08-19T00:00:00Z</td>\n",
       "      <td>11.85</td>\n",
       "      <td>11.85</td>\n",
       "      <td>11.15</td>\n",
       "      <td>11.69</td>\n",
       "      <td>1.926578</td>\n",
       "      <td>NaN</td>\n",
       "      <td>10.90000</td>\n",
       "      <td>NaN</td>\n",
       "      <td>NaN</td>\n",
       "      <td>...</td>\n",
       "      <td>50</td>\n",
       "      <td>NaN</td>\n",
       "      <td>NaN</td>\n",
       "      <td>NaN</td>\n",
       "      <td>NaN</td>\n",
       "      <td>NaN</td>\n",
       "      <td>NaN</td>\n",
       "      <td>1.045857</td>\n",
       "      <td>NaN</td>\n",
       "      <td>NaN</td>\n",
       "    </tr>\n",
       "    <tr>\n",
       "      <th>2</th>\n",
       "      <td>2011-08-20T00:00:00Z</td>\n",
       "      <td>11.70</td>\n",
       "      <td>11.70</td>\n",
       "      <td>11.70</td>\n",
       "      <td>11.70</td>\n",
       "      <td>0.085470</td>\n",
       "      <td>NaN</td>\n",
       "      <td>10.90000</td>\n",
       "      <td>NaN</td>\n",
       "      <td>NaN</td>\n",
       "      <td>...</td>\n",
       "      <td>50</td>\n",
       "      <td>NaN</td>\n",
       "      <td>NaN</td>\n",
       "      <td>NaN</td>\n",
       "      <td>NaN</td>\n",
       "      <td>NaN</td>\n",
       "      <td>NaN</td>\n",
       "      <td>1.045857</td>\n",
       "      <td>NaN</td>\n",
       "      <td>NaN</td>\n",
       "    </tr>\n",
       "    <tr>\n",
       "      <th>3</th>\n",
       "      <td>2011-08-21T00:00:00Z</td>\n",
       "      <td>11.70</td>\n",
       "      <td>11.70</td>\n",
       "      <td>11.70</td>\n",
       "      <td>11.70</td>\n",
       "      <td>0.085470</td>\n",
       "      <td>NaN</td>\n",
       "      <td>10.91900</td>\n",
       "      <td>NaN</td>\n",
       "      <td>NaN</td>\n",
       "      <td>...</td>\n",
       "      <td>50</td>\n",
       "      <td>NaN</td>\n",
       "      <td>NaN</td>\n",
       "      <td>NaN</td>\n",
       "      <td>NaN</td>\n",
       "      <td>NaN</td>\n",
       "      <td>NaN</td>\n",
       "      <td>1.045857</td>\n",
       "      <td>NaN</td>\n",
       "      <td>NaN</td>\n",
       "    </tr>\n",
       "    <tr>\n",
       "      <th>4</th>\n",
       "      <td>2011-08-22T00:00:00Z</td>\n",
       "      <td>11.70</td>\n",
       "      <td>11.70</td>\n",
       "      <td>11.70</td>\n",
       "      <td>11.70</td>\n",
       "      <td>0.028632</td>\n",
       "      <td>NaN</td>\n",
       "      <td>10.93762</td>\n",
       "      <td>NaN</td>\n",
       "      <td>NaN</td>\n",
       "      <td>...</td>\n",
       "      <td>50</td>\n",
       "      <td>NaN</td>\n",
       "      <td>NaN</td>\n",
       "      <td>NaN</td>\n",
       "      <td>NaN</td>\n",
       "      <td>NaN</td>\n",
       "      <td>NaN</td>\n",
       "      <td>1.045857</td>\n",
       "      <td>NaN</td>\n",
       "      <td>NaN</td>\n",
       "    </tr>\n",
       "  </tbody>\n",
       "</table>\n",
       "<p>5 rows × 38 columns</p>\n",
       "</div>"
      ],
      "text/plain": [
       "                   time   open   high    low  close    Volume  Volume MA  \\\n",
       "0  2011-08-18T00:00:00Z  10.90  10.90  10.90  10.90  0.489908        NaN   \n",
       "1  2011-08-19T00:00:00Z  11.85  11.85  11.15  11.69  1.926578        NaN   \n",
       "2  2011-08-20T00:00:00Z  11.70  11.70  11.70  11.70  0.085470        NaN   \n",
       "3  2011-08-21T00:00:00Z  11.70  11.70  11.70  11.70  0.085470        NaN   \n",
       "4  2011-08-22T00:00:00Z  11.70  11.70  11.70  11.70  0.028632        NaN   \n",
       "\n",
       "   ParabolicSAR  Conversion Line  Base Line  ...  Plot  Histogram  MACD  \\\n",
       "0           NaN              NaN        NaN  ...    50        NaN   NaN   \n",
       "1      10.90000              NaN        NaN  ...    50        NaN   NaN   \n",
       "2      10.90000              NaN        NaN  ...    50        NaN   NaN   \n",
       "3      10.91900              NaN        NaN  ...    50        NaN   NaN   \n",
       "4      10.93762              NaN        NaN  ...    50        NaN   NaN   \n",
       "\n",
       "   Signal  %K  %D  MOM  Accumulation/Distribution  ATR  Bollinger Bands Width  \n",
       "0     NaN NaN NaN  NaN                   0.000000  NaN                    NaN  \n",
       "1     NaN NaN NaN  NaN                   1.045857  NaN                    NaN  \n",
       "2     NaN NaN NaN  NaN                   1.045857  NaN                    NaN  \n",
       "3     NaN NaN NaN  NaN                   1.045857  NaN                    NaN  \n",
       "4     NaN NaN NaN  NaN                   1.045857  NaN                    NaN  \n",
       "\n",
       "[5 rows x 38 columns]"
      ]
     },
     "execution_count": 2,
     "metadata": {},
     "output_type": "execute_result"
    }
   ],
   "source": [
    "\n",
    "data = pd.read_csv('./teste.csv')\n",
    "data.head(5)"
   ]
  },
  {
   "cell_type": "code",
   "execution_count": 3,
   "metadata": {},
   "outputs": [
    {
     "data": {
      "text/plain": [
       "Index(['time', 'open', 'high', 'low', 'close', 'Volume', 'Volume MA',\n",
       "       'ParabolicSAR', 'Conversion Line', 'Base Line', 'Lagging Span',\n",
       "       'Leading Span A', 'Leading Span B', 'Kumo Cloud Upper Line',\n",
       "       'Kumo Cloud Lower Line', 'Basis', 'Upper', 'Lower', 'EMA',\n",
       "       'Smoothing Line', 'MA', 'Smoothing Line.1', 'Volume.1', 'Volume MA.1',\n",
       "       'RSI', 'RSI-based MA', 'Upper Bollinger Band', 'Lower Bollinger Band',\n",
       "       'Plot', 'Histogram', 'MACD', 'Signal', '%K', '%D', 'MOM',\n",
       "       'Accumulation/Distribution', 'ATR', 'Bollinger Bands Width',\n",
       "       'Close d+1'],\n",
       "      dtype='object')"
      ]
     },
     "execution_count": 3,
     "metadata": {},
     "output_type": "execute_result"
    }
   ],
   "source": [
    "data['time'] = data['time'].str.slice(0, 9)\n",
    "data = data[data['time'] >= '2012-01-01']\n",
    "data['Close d+1'] = data['close'].shift(-1)\n",
    "data.columns"
   ]
  },
  {
   "cell_type": "code",
   "execution_count": 4,
   "metadata": {},
   "outputs": [],
   "source": [
    "# Drop last line for Close d+1 nan\n",
    "data = data.drop(data.index[len(data)-1])\n",
    "\n",
    "columns_to_drop = ['Lagging Span', 'Upper Bollinger Band' , 'Lower Bollinger Band']\n",
    "data = data.drop(columns_to_drop, axis=1)\n",
    "for name in data.columns:\n",
    "    for i, value in enumerate(data[name]):\n",
    "        if pd.isna(value):\n",
    "            print(name, ': ', i, ' ', value)"
   ]
  },
  {
   "cell_type": "code",
   "execution_count": 5,
   "metadata": {},
   "outputs": [],
   "source": [
    "# Drop last line for Close d+1 nan\n",
    "# data = data.drop(data.index[len(data)-1])"
   ]
  },
  {
   "cell_type": "code",
   "execution_count": 6,
   "metadata": {},
   "outputs": [],
   "source": [
    "# data = data.drop(['Lagging Span', 'Upper Bollinger Band' , 'Lower Bollinger Band',])"
   ]
  },
  {
   "attachments": {},
   "cell_type": "markdown",
   "metadata": {},
   "source": [
    "Random Forest"
   ]
  },
  {
   "cell_type": "code",
   "execution_count": 23,
   "metadata": {},
   "outputs": [],
   "source": [
    "from sklearn.model_selection import train_test_split\n",
    "from sklearn.ensemble import RandomForestRegressor\n",
    "from sklearn.metrics import mean_squared_error\n",
    "from sklearn.metrics import mean_absolute_error"
   ]
  },
  {
   "cell_type": "code",
   "execution_count": 8,
   "metadata": {},
   "outputs": [],
   "source": [
    "train,test = train_test_split(data,test_size=0.3,train_size=0.7)"
   ]
  },
  {
   "cell_type": "code",
   "execution_count": 9,
   "metadata": {},
   "outputs": [],
   "source": [
    "#Create new Df with only the target for test and train \n",
    "Y_regress_rfg = train[['Close d+1']]\n",
    "Y_test_rfg = test[['Close d+1']]\n",
    "\n",
    "#Create new Df with only the features for test and train \n",
    "columns_to_drop = ['time', 'close', 'Close d+1']\n",
    "X_regress_rfg = train.drop(columns=columns_to_drop)\n",
    "X_test_rfg = test.drop(columns=columns_to_drop)\n"
   ]
  },
  {
   "cell_type": "code",
   "execution_count": 10,
   "metadata": {},
   "outputs": [
    {
     "data": {
      "text/plain": [
       "Index(['open', 'high', 'low', 'Volume', 'Volume MA', 'ParabolicSAR',\n",
       "       'Conversion Line', 'Base Line', 'Leading Span A', 'Leading Span B',\n",
       "       'Kumo Cloud Upper Line', 'Kumo Cloud Lower Line', 'Basis', 'Upper',\n",
       "       'Lower', 'EMA', 'Smoothing Line', 'MA', 'Smoothing Line.1', 'Volume.1',\n",
       "       'Volume MA.1', 'RSI', 'RSI-based MA', 'Plot', 'Histogram', 'MACD',\n",
       "       'Signal', '%K', '%D', 'MOM', 'Accumulation/Distribution', 'ATR',\n",
       "       'Bollinger Bands Width'],\n",
       "      dtype='object')"
      ]
     },
     "execution_count": 10,
     "metadata": {},
     "output_type": "execute_result"
    }
   ],
   "source": [
    "X_regress_rfg.columns"
   ]
  },
  {
   "cell_type": "code",
   "execution_count": 11,
   "metadata": {},
   "outputs": [
    {
     "name": "stderr",
     "output_type": "stream",
     "text": [
      "C:\\Users\\arthu\\AppData\\Roaming\\Python\\Python310\\site-packages\\sklearn\\utils\\validation.py:757: FutureWarning: is_sparse is deprecated and will be removed in a future version. Check `isinstance(dtype, pd.SparseDtype)` instead.\n",
      "  if not hasattr(array, \"sparse\") and array.dtypes.apply(is_sparse).any():\n",
      "C:\\Users\\arthu\\AppData\\Roaming\\Python\\Python310\\site-packages\\sklearn\\utils\\validation.py:595: FutureWarning: is_sparse is deprecated and will be removed in a future version. Check `isinstance(dtype, pd.SparseDtype)` instead.\n",
      "  if is_sparse(pd_dtype):\n",
      "C:\\Users\\arthu\\AppData\\Roaming\\Python\\Python310\\site-packages\\sklearn\\utils\\validation.py:604: FutureWarning: is_sparse is deprecated and will be removed in a future version. Check `isinstance(dtype, pd.SparseDtype)` instead.\n",
      "  if is_sparse(pd_dtype) or not is_extension_array_dtype(pd_dtype):\n",
      "C:\\Users\\arthu\\AppData\\Roaming\\Python\\Python310\\site-packages\\sklearn\\utils\\validation.py:757: FutureWarning: is_sparse is deprecated and will be removed in a future version. Check `isinstance(dtype, pd.SparseDtype)` instead.\n",
      "  if not hasattr(array, \"sparse\") and array.dtypes.apply(is_sparse).any():\n",
      "C:\\Users\\arthu\\AppData\\Roaming\\Python\\Python310\\site-packages\\sklearn\\utils\\validation.py:595: FutureWarning: is_sparse is deprecated and will be removed in a future version. Check `isinstance(dtype, pd.SparseDtype)` instead.\n",
      "  if is_sparse(pd_dtype):\n",
      "C:\\Users\\arthu\\AppData\\Roaming\\Python\\Python310\\site-packages\\sklearn\\utils\\validation.py:604: FutureWarning: is_sparse is deprecated and will be removed in a future version. Check `isinstance(dtype, pd.SparseDtype)` instead.\n",
      "  if is_sparse(pd_dtype) or not is_extension_array_dtype(pd_dtype):\n",
      "C:\\Users\\arthu\\AppData\\Local\\Temp\\ipykernel_4360\\1650086022.py:4: DataConversionWarning: A column-vector y was passed when a 1d array was expected. Please change the shape of y to (n_samples,), for example using ravel().\n",
      "  Forest.fit(X_regress_rfg,Y_regress_rfg)\n",
      "C:\\Users\\arthu\\AppData\\Roaming\\Python\\Python310\\site-packages\\sklearn\\utils\\validation.py:757: FutureWarning: is_sparse is deprecated and will be removed in a future version. Check `isinstance(dtype, pd.SparseDtype)` instead.\n",
      "  if not hasattr(array, \"sparse\") and array.dtypes.apply(is_sparse).any():\n",
      "C:\\Users\\arthu\\AppData\\Roaming\\Python\\Python310\\site-packages\\sklearn\\utils\\validation.py:595: FutureWarning: is_sparse is deprecated and will be removed in a future version. Check `isinstance(dtype, pd.SparseDtype)` instead.\n",
      "  if is_sparse(pd_dtype):\n",
      "C:\\Users\\arthu\\AppData\\Roaming\\Python\\Python310\\site-packages\\sklearn\\utils\\validation.py:604: FutureWarning: is_sparse is deprecated and will be removed in a future version. Check `isinstance(dtype, pd.SparseDtype)` instead.\n",
      "  if is_sparse(pd_dtype) or not is_extension_array_dtype(pd_dtype):\n"
     ]
    }
   ],
   "source": [
    "#Create object RandomForestRegressor\n",
    "Forest = RandomForestRegressor(random_state=0 , n_jobs=-1, n_estimators=10000)\n",
    "#Train the model using the training sets\n",
    "Forest.fit(X_regress_rfg,Y_regress_rfg)\n",
    "#Predict the response \n",
    "predicted_value = Forest.predict(X_test_rfg)"
   ]
  },
  {
   "cell_type": "code",
   "execution_count": 12,
   "metadata": {},
   "outputs": [
    {
     "data": {
      "text/html": [
       "<div>\n",
       "<style scoped>\n",
       "    .dataframe tbody tr th:only-of-type {\n",
       "        vertical-align: middle;\n",
       "    }\n",
       "\n",
       "    .dataframe tbody tr th {\n",
       "        vertical-align: top;\n",
       "    }\n",
       "\n",
       "    .dataframe thead th {\n",
       "        text-align: right;\n",
       "    }\n",
       "</style>\n",
       "<table border=\"1\" class=\"dataframe\">\n",
       "  <thead>\n",
       "    <tr style=\"text-align: right;\">\n",
       "      <th></th>\n",
       "      <th>Predicted Value</th>\n",
       "      <th>Value</th>\n",
       "    </tr>\n",
       "  </thead>\n",
       "  <tbody>\n",
       "    <tr>\n",
       "      <th>2252</th>\n",
       "      <td>7919.471299</td>\n",
       "      <td>8226.17</td>\n",
       "    </tr>\n",
       "    <tr>\n",
       "      <th>676</th>\n",
       "      <td>88.988139</td>\n",
       "      <td>90.16</td>\n",
       "    </tr>\n",
       "    <tr>\n",
       "      <th>3192</th>\n",
       "      <td>9520.067706</td>\n",
       "      <td>9461.29</td>\n",
       "    </tr>\n",
       "    <tr>\n",
       "      <th>243</th>\n",
       "      <td>5.029277</td>\n",
       "      <td>5.07</td>\n",
       "    </tr>\n",
       "    <tr>\n",
       "      <th>3388</th>\n",
       "      <td>27216.675538</td>\n",
       "      <td>28881.30</td>\n",
       "    </tr>\n",
       "  </tbody>\n",
       "</table>\n",
       "</div>"
      ],
      "text/plain": [
       "      Predicted Value     Value\n",
       "2252      7919.471299   8226.17\n",
       "676         88.988139     90.16\n",
       "3192      9520.067706   9461.29\n",
       "243          5.029277      5.07\n",
       "3388     27216.675538  28881.30"
      ]
     },
     "execution_count": 12,
     "metadata": {},
     "output_type": "execute_result"
    }
   ],
   "source": [
    "value_predict_rfg = pd.DataFrame({'Predicted Value':predicted_value,'Value':Y_test_rfg['Close d+1']})\n",
    "value_predict_rfg.head()"
   ]
  },
  {
   "cell_type": "code",
   "execution_count": 13,
   "metadata": {},
   "outputs": [
    {
     "data": {
      "text/html": [
       "<div>\n",
       "<style scoped>\n",
       "    .dataframe tbody tr th:only-of-type {\n",
       "        vertical-align: middle;\n",
       "    }\n",
       "\n",
       "    .dataframe tbody tr th {\n",
       "        vertical-align: top;\n",
       "    }\n",
       "\n",
       "    .dataframe thead th {\n",
       "        text-align: right;\n",
       "    }\n",
       "</style>\n",
       "<table border=\"1\" class=\"dataframe\">\n",
       "  <thead>\n",
       "    <tr style=\"text-align: right;\">\n",
       "      <th></th>\n",
       "      <th>Predicted Value</th>\n",
       "      <th>Value</th>\n",
       "    </tr>\n",
       "  </thead>\n",
       "  <tbody>\n",
       "    <tr>\n",
       "      <th>2252</th>\n",
       "      <td>7919.471299</td>\n",
       "      <td>8226.17</td>\n",
       "    </tr>\n",
       "    <tr>\n",
       "      <th>676</th>\n",
       "      <td>88.988139</td>\n",
       "      <td>90.16</td>\n",
       "    </tr>\n",
       "    <tr>\n",
       "      <th>3192</th>\n",
       "      <td>9520.067706</td>\n",
       "      <td>9461.29</td>\n",
       "    </tr>\n",
       "    <tr>\n",
       "      <th>243</th>\n",
       "      <td>5.029277</td>\n",
       "      <td>5.07</td>\n",
       "    </tr>\n",
       "    <tr>\n",
       "      <th>3388</th>\n",
       "      <td>27216.675538</td>\n",
       "      <td>28881.30</td>\n",
       "    </tr>\n",
       "    <tr>\n",
       "      <th>...</th>\n",
       "      <td>...</td>\n",
       "      <td>...</td>\n",
       "    </tr>\n",
       "    <tr>\n",
       "      <th>2065</th>\n",
       "      <td>1768.663847</td>\n",
       "      <td>1782.99</td>\n",
       "    </tr>\n",
       "    <tr>\n",
       "      <th>2110</th>\n",
       "      <td>2536.570855</td>\n",
       "      <td>2412.41</td>\n",
       "    </tr>\n",
       "    <tr>\n",
       "      <th>2566</th>\n",
       "      <td>6539.067665</td>\n",
       "      <td>6597.81</td>\n",
       "    </tr>\n",
       "    <tr>\n",
       "      <th>1677</th>\n",
       "      <td>454.427256</td>\n",
       "      <td>460.02</td>\n",
       "    </tr>\n",
       "    <tr>\n",
       "      <th>1547</th>\n",
       "      <td>452.466252</td>\n",
       "      <td>455.87</td>\n",
       "    </tr>\n",
       "  </tbody>\n",
       "</table>\n",
       "<p>1280 rows × 2 columns</p>\n",
       "</div>"
      ],
      "text/plain": [
       "      Predicted Value     Value\n",
       "2252      7919.471299   8226.17\n",
       "676         88.988139     90.16\n",
       "3192      9520.067706   9461.29\n",
       "243          5.029277      5.07\n",
       "3388     27216.675538  28881.30\n",
       "...               ...       ...\n",
       "2065      1768.663847   1782.99\n",
       "2110      2536.570855   2412.41\n",
       "2566      6539.067665   6597.81\n",
       "1677       454.427256    460.02\n",
       "1547       452.466252    455.87\n",
       "\n",
       "[1280 rows x 2 columns]"
      ]
     },
     "execution_count": 13,
     "metadata": {},
     "output_type": "execute_result"
    }
   ],
   "source": [
    "value_predict_rfg"
   ]
  },
  {
   "cell_type": "code",
   "execution_count": 19,
   "metadata": {},
   "outputs": [
    {
     "data": {
      "image/png": "[encoded data removed]",
      "text/plain": [
       "<Figure size 1000x600 with 1 Axes>"
      ]
     },
     "metadata": {},
     "output_type": "display_data"
    }
   ],
   "source": [
    "plt.figure(figsize=(10,6))\n",
    "plt.plot(Y_test_rfg['Close d+1'], value_predict_rfg, 'ro',label='Valores Verdadeiros x Preditos')\n",
    "plt.plot(Y_test_rfg['Close d+1'],Y_test_rfg['Close d+1'],label='Reta identidade')\n",
    "plt.legend()\n",
    "plt.title('Random Forest')\n",
    "plt.xlabel('Real Value ($)')\n",
    "plt.ylabel('Value predicted ($)')\n",
    "plt.show()"
   ]
  },
  {
   "cell_type": "code",
   "execution_count": null,
   "metadata": {},
   "outputs": [],
   "source": []
  }
 ],
 "metadata": {
  "kernelspec": {
   "display_name": "Python 3",
   "language": "python",
   "name": "python3"
  },
  "language_info": {
   "codemirror_mode": {
    "name": "ipython",
    "version": 3
   },
   "file_extension": ".py",
   "mimetype": "text/x-python",
   "name": "python",
   "nbconvert_exporter": "python",
   "pygments_lexer": "ipython3",
   "version": "3.10.6"
  },
  "orig_nbformat": 4
 },
 "nbformat": 4,
 "nbformat_minor": 2
}
